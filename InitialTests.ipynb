{
  "nbformat": 4,
  "nbformat_minor": 0,
  "metadata": {
    "colab": {
      "provenance": [],
      "include_colab_link": true
    },
    "kernelspec": {
      "name": "python3",
      "display_name": "Python 3"
    },
    "language_info": {
      "name": "python"
    }
  },
  "cells": [
    {
      "cell_type": "markdown",
      "metadata": {
        "id": "view-in-github",
        "colab_type": "text"
      },
      "source": [
        "<a href=\"https://colab.research.google.com/github/Stopfield/IRT_BiasStudy/blob/main/InitialTests.ipynb\" target=\"_parent\"><img src=\"https://colab.research.google.com/assets/colab-badge.svg\" alt=\"Open In Colab\"/></a>"
      ]
    },
    {
      "cell_type": "markdown",
      "source": [
        "# Estudo de Enviesamento e Mitigação com IRT\n",
        "Levando em conta o Dataset Credit-G:\n",
        "## TODO\n",
        "1. Rodar os modelos clássicos;\n",
        "2. Levar em conta a proporção de gênero, não só a classe, na estratificação - mas fazer dos dois jeitos e avaliar o impacto:\n",
        "  * Deixando de lado a proporção de gênero (o dataset normal);\n",
        "  * Levando em conta a proporção (alterar para que seja igual proporcionalmente);\n",
        "3. Utilizar com todas as classes categóricas originais do `personal_status` no treinamento (com div/wid etc.);\n",
        "4. Na classe `modelsPool`, alterar para receber como parâmetro a seed/random-state do modelo, se receber `42`, executa somente uma vez para cada `clf` e retorna os modelos default do scikit;"
      ],
      "metadata": {
        "id": "RCwS5ZmZdWZr"
      }
    },
    {
      "cell_type": "code",
      "source": [],
      "metadata": {
        "id": "WUkTSjSne4lh"
      },
      "execution_count": null,
      "outputs": []
    }
  ]
}